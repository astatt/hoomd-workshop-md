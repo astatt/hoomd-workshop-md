{
 "cells": [
  {
   "cell_type": "code",
   "execution_count": null,
   "metadata": {},
   "outputs": [],
   "source": [
    "# This cell installs HOOMD in Google Colab. Delete it if you run locally\n",
    "# !pip install -q condacolab\n",
    "# import condacolab\n",
    "\n",
    "# condacolab.install_from_url(\n",
    "#     'https://github.com/glotzerlab/hoomd-workshop/releases/download/2022.0.0/hoomd-workshop-2022.0-Linux-x86_64.sh'\n",
    "# )"
   ]
  },
  {
   "cell_type": "code",
   "execution_count": null,
   "metadata": {},
   "outputs": [],
   "source": [
    "from render_octahedra import render"
   ]
  },
  {
   "cell_type": "markdown",
   "metadata": {},
   "source": [
    "# Introducing HOOMD-blue\n",
    "\n",
    "[HOOMD-blue documentation](https://hoomd-blue.readthedocs.io/)"
   ]
  },
  {
   "cell_type": "markdown",
   "metadata": {},
   "source": [
    "## Core objects\n",
    "\n",
    "HOOMD-blue is an object-oriented Python package. First, import the package:"
   ]
  },
  {
   "cell_type": "code",
   "execution_count": null,
   "metadata": {},
   "outputs": [],
   "source": [
    "import hoomd"
   ]
  },
  {
   "cell_type": "markdown",
   "metadata": {},
   "source": [
    "### Selecting a device\n",
    "\n",
    "Choose the hardware device to use:"
   ]
  },
  {
   "cell_type": "code",
   "execution_count": null,
   "metadata": {},
   "outputs": [],
   "source": [
    "# gpu = hoomd.device.GPU()"
   ]
  },
  {
   "cell_type": "markdown",
   "metadata": {},
   "source": [
    "Try creating a CPU device:"
   ]
  },
  {
   "cell_type": "code",
   "execution_count": null,
   "metadata": {
    "tags": [
     "raises-exception"
    ]
   },
   "outputs": [],
   "source": [
    "# Complete the code\n",
    "# cpu =\n",
    "cpu = hoomd.device.CPU()"
   ]
  },
  {
   "cell_type": "markdown",
   "metadata": {},
   "source": [
    "### Creating a Simulation\n",
    "\n",
    "Now, you can instantiate a **Simulation** with the chosen device."
   ]
  },
  {
   "cell_type": "code",
   "execution_count": null,
   "metadata": {},
   "outputs": [],
   "source": [
    "sim = hoomd.Simulation(device=cpu, seed=1)"
   ]
  },
  {
   "cell_type": "markdown",
   "metadata": {},
   "source": [
    "A newly constructed **Simulation** has no **state**:"
   ]
  },
  {
   "cell_type": "code",
   "execution_count": null,
   "metadata": {},
   "outputs": [],
   "source": [
    "print(sim.state)"
   ]
  },
  {
   "cell_type": "markdown",
   "metadata": {},
   "source": [
    "### Populating the simulation state\n",
    "\n",
    "Placing particles in the initial configuration snapshot:"
   ]
  },
  {
   "cell_type": "code",
   "execution_count": null,
   "metadata": {},
   "outputs": [],
   "source": [
    "import freud"
   ]
  },
  {
   "cell_type": "code",
   "execution_count": null,
   "metadata": {},
   "outputs": [],
   "source": [
    "snapshot = hoomd.Snapshot()\n",
    "box, positions = freud.data.UnitCell.fcc().generate_system(num_replicas=3,\n",
    "                                                           scale=1.5)\n",
    "snapshot.particles.N = len(positions)\n",
    "snapshot.particles.position[:] = positions[:]\n",
    "snapshot.particles.types = ['octahedron']\n",
    "snapshot.configuration.box = [box.Lx, box.Ly, box.Lz, 0, 0, 0]\n",
    "render(snapshot)"
   ]
  },
  {
   "cell_type": "markdown",
   "metadata": {},
   "source": [
    "Initialize the simulation **state** from the snapshot:"
   ]
  },
  {
   "cell_type": "code",
   "execution_count": null,
   "metadata": {},
   "outputs": [],
   "source": [
    "sim.create_state_from_snapshot(snapshot)"
   ]
  },
  {
   "cell_type": "markdown",
   "metadata": {},
   "source": [
    "You can also create a simulation state from a GSD file. Try initializing a new simulation from the extant file `octahedra.gsd`:"
   ]
  },
  {
   "cell_type": "code",
   "execution_count": null,
   "metadata": {},
   "outputs": [],
   "source": [
    "# Complete the 2 lines of code\n",
    "# sim2 = hoomd.Simulation(\n",
    "# sim2.\n",
    "\n",
    "sim2 = hoomd.Simulation(device=cpu)\n",
    "sim2.create_state_from_gsd('octahedra.gsd')"
   ]
  },
  {
   "cell_type": "markdown",
   "metadata": {},
   "source": [
    "### Adding the integrator and other operations\n",
    "\n",
    "The **integrator** determines what kind of simulation HOOMD-blue executes. Here, we will perform hard particle Monte Carlo simulations of octahedra.\n",
    "\n",
    "The **ConvexPolyhedron** **integrator** implements HPMC simulations - Create one:"
   ]
  },
  {
   "cell_type": "code",
   "execution_count": null,
   "metadata": {},
   "outputs": [],
   "source": [
    "mc = hoomd.hpmc.integrate.ConvexPolyhedron()"
   ]
  },
  {
   "cell_type": "markdown",
   "metadata": {},
   "source": [
    "Set the `shape` *property* to define the **particle shape**.\n",
    "A convex polyhedron is defined by the convex hull of a [set of vertices](https://en.wikipedia.org/wiki/Octahedron):"
   ]
  },
  {
   "cell_type": "code",
   "execution_count": null,
   "metadata": {},
   "outputs": [],
   "source": [
    "mc.shape['octahedron'] = dict(vertices=[\n",
    "    (-0.5, 0, 0),\n",
    "    (0.5, 0, 0),\n",
    "    (0, -0.5, 0),\n",
    "    (0, 0.5, 0),\n",
    "    (0, 0, -0.5),\n",
    "    (0, 0, 0.5),\n",
    "])"
   ]
  },
  {
   "cell_type": "markdown",
   "metadata": {},
   "source": [
    "Set the maximum trial displacement `d` and rotation `a`:"
   ]
  },
  {
   "cell_type": "code",
   "execution_count": null,
   "metadata": {},
   "outputs": [],
   "source": [
    "mc.d['octahedron'] = 0.15\n",
    "mc.a['octahedron'] = 0.2"
   ]
  },
  {
   "cell_type": "markdown",
   "metadata": {},
   "source": [
    "Add the HPMC **integrator** to the **Simulation** operations:"
   ]
  },
  {
   "cell_type": "code",
   "execution_count": null,
   "metadata": {},
   "outputs": [],
   "source": [
    "sim.operations += mc"
   ]
  },
  {
   "cell_type": "markdown",
   "metadata": {},
   "source": [
    "## Running the simulation"
   ]
  },
  {
   "cell_type": "markdown",
   "metadata": {},
   "source": [
    "The GSD writer will save simulation snapshots to a trajectory file:"
   ]
  },
  {
   "cell_type": "code",
   "execution_count": null,
   "metadata": {},
   "outputs": [],
   "source": [
    "gsd_writer = hoomd.write.GSD(filename='trajectory.gsd',\n",
    "                             trigger=hoomd.trigger.Periodic(1000))"
   ]
  },
  {
   "cell_type": "markdown",
   "metadata": {},
   "source": [
    "Add `gsd_writer` to the simulation's operations:"
   ]
  },
  {
   "cell_type": "code",
   "execution_count": null,
   "metadata": {},
   "outputs": [],
   "source": [
    "# Add code here\n",
    "\n",
    "sim.operations += gsd_writer"
   ]
  },
  {
   "cell_type": "markdown",
   "metadata": {},
   "source": [
    "Run the simulation for 10,000 steps:"
   ]
  },
  {
   "cell_type": "code",
   "execution_count": null,
   "metadata": {},
   "outputs": [],
   "source": [
    "# Add code here\n",
    "sim.run(10000)"
   ]
  },
  {
   "cell_type": "code",
   "execution_count": null,
   "metadata": {},
   "outputs": [],
   "source": [
    "import gsd.hoomd\n",
    "\n",
    "with gsd.hoomd.open('trajectory.gsd') as trajectory:\n",
    "    image = render(trajectory[-1])\n",
    "image"
   ]
  },
  {
   "cell_type": "markdown",
   "metadata": {},
   "source": [
    "Let's check the translation trial move acceptance:"
   ]
  },
  {
   "cell_type": "code",
   "execution_count": null,
   "metadata": {},
   "outputs": [],
   "source": [
    "accepted_moves, rejected_moves = mc.translate_moves\n",
    "accepted_moves / (accepted_moves + rejected_moves)"
   ]
  },
  {
   "cell_type": "markdown",
   "metadata": {},
   "source": [
    "What is the rotation trial move acceptance?"
   ]
  },
  {
   "cell_type": "code",
   "execution_count": null,
   "metadata": {},
   "outputs": [],
   "source": [
    "# Add code here"
   ]
  },
  {
   "cell_type": "markdown",
   "metadata": {},
   "source": [
    "Add a **Tuner** that adjusts `a` and `d` to achieve a target acceptance ratio of 0.2:"
   ]
  },
  {
   "cell_type": "code",
   "execution_count": null,
   "metadata": {},
   "outputs": [],
   "source": [
    "move_size_trigger = hoomd.trigger.Periodic(10)\n",
    "tune_move_size = hoomd.hpmc.tune.MoveSize.scale_solver(\n",
    "    moves=['a', 'd'],\n",
    "    target=0.2,\n",
    "    trigger=move_size_trigger,\n",
    "    max_translation_move=1.0,\n",
    "    max_rotation_move=0.5)\n",
    "sim.operations += tune_move_size"
   ]
  },
  {
   "cell_type": "markdown",
   "metadata": {},
   "source": [
    "Run the simulation for 1000 steps:"
   ]
  },
  {
   "cell_type": "code",
   "execution_count": null,
   "metadata": {},
   "outputs": [],
   "source": [
    "# Add code here\n",
    "sim.run(1000)"
   ]
  },
  {
   "cell_type": "code",
   "execution_count": null,
   "metadata": {},
   "outputs": [],
   "source": [
    "accepted_moves, rejected_moves = mc.translate_moves\n",
    "accepted_moves / (accepted_moves + rejected_moves)"
   ]
  },
  {
   "cell_type": "code",
   "execution_count": null,
   "metadata": {},
   "outputs": [],
   "source": [
    "mc.d['octahedron']"
   ]
  },
  {
   "cell_type": "markdown",
   "metadata": {},
   "source": [
    "## Exercise: Compressing the system to a target packing fraction\n",
    "\n",
    "Find an operation in the [HOOMD-blue documentation](https://hoomd-blue.readthedocs.io/) that you can use to compress the system."
   ]
  },
  {
   "cell_type": "markdown",
   "metadata": {},
   "source": []
  }
 ],
 "metadata": {
  "kernelspec": {
   "display_name": "Python 3.9.13 ('venv')",
   "language": "python",
   "name": "python3"
  },
  "language_info": {
   "codemirror_mode": {
    "name": "ipython",
    "version": 3
   },
   "file_extension": ".py",
   "mimetype": "text/x-python",
   "name": "python",
   "nbconvert_exporter": "python",
   "pygments_lexer": "ipython3",
   "version": "3.9.13"
  },
  "vscode": {
   "interpreter": {
    "hash": "b698676187e8663f75837a5b59f7225e750401ff06561542669377ae3ea87bc4"
   }
  }
 },
 "nbformat": 4,
 "nbformat_minor": 2
}
