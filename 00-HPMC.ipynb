{
 "cells": [
  {
   "cell_type": "code",
   "execution_count": null,
   "metadata": {},
   "outputs": [],
   "source": [
    "# This cell installs HOOMD in Google Colab. Delete it if you run locally\n",
    "!pip install -q condacolab\n",
    "import condacolab\n",
    "\n",
    "condacolab.install_from_url(\n",
    "    'https://github.com/glotzerlab/hoomd-workshop/releases/download/2022.0.0/hoomd-workshop-2022.0-Linux-x86_64.sh'\n",
    ")"
   ]
  },
  {
   "cell_type": "code",
   "execution_count": null,
   "metadata": {},
   "outputs": [],
   "source": [
    "import hoomd"
   ]
  }
 ],
 "metadata": {
  "kernelspec": {
   "display_name": "Python 3.9.13 ('venv')",
   "language": "python",
   "name": "python3"
  },
  "language_info": {
   "codemirror_mode": {
    "name": "ipython",
    "version": 3
   },
   "file_extension": ".py",
   "mimetype": "text/x-python",
   "name": "python",
   "nbconvert_exporter": "python",
   "pygments_lexer": "ipython3",
   "version": "3.9.13"
  },
  "vscode": {
   "interpreter": {
    "hash": "b698676187e8663f75837a5b59f7225e750401ff06561542669377ae3ea87bc4"
   }
  }
 },
 "nbformat": 4,
 "nbformat_minor": 2
}
