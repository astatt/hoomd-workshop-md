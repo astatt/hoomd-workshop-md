{
 "cells": [
  {
   "cell_type": "markdown",
   "metadata": {},
   "source": [
    "# Introducing HOOMD-blue\n",
    "\n",
    "This hands-on workshop introduces the basic concepts of HOOMD-blue and will teach you how to run a hard particle Monte Carlo simulation. For more details, information that may be helpful when completing the exercises, see the [HOOMD-blue documentation](https://hoomd-blue.readthedocs.io/).\n",
    "\n",
    "**FIRST:** Click the \"Copy to Drive\" button in the toolbar to save this notebook and any edits that you make to your Google Drive."
   ]
  },
  {
   "cell_type": "markdown",
   "metadata": {},
   "source": [
    "## Utility code\n",
    "\n",
    "Please ignore the content of these cells, they provide some helpful methods but are not part of the workshop.\n",
    "\n",
    "Run them one at a time, then click the arrow by \"Utility code\" to hide them."
   ]
  },
  {
   "cell_type": "code",
   "execution_count": null,
   "metadata": {},
   "outputs": [],
   "source": [
    "# This cell installs HOOMD-blue in Google Colab. You can delete it if you run locally.\n",
    "try:\n",
    "    import google\n",
    "\n",
    "    !pip install -q condacolab\n",
    "    import condacolab\n",
    "\n",
    "    condacolab.install_from_url(\n",
    "        'https://github.com/glotzerlab/hoomd-workshop/releases/download/2022.0.1/hoomd-workshop-2022.0.1-Linux-x86_64.sh'\n",
    "    )\n",
    "except ModuleNotFoundError:\n",
    "    pass"
   ]
  },
  {
   "cell_type": "code",
   "execution_count": null,
   "metadata": {},
   "outputs": [],
   "source": [
    "# Please ignore the content of this cell. Run it after condacolab finishes\n",
    "# and proceed to the workshop content below.\n",
    "\n",
    "# This cell defines a `render` function that code below uses to visualize system\n",
    "# configurations.\n",
    "import math\n",
    "import warnings\n",
    "\n",
    "import fresnel\n",
    "import IPython\n",
    "import packaging.version\n",
    "\n",
    "device = fresnel.Device()\n",
    "tracer = fresnel.tracer.Path(device=device, w=400, h=400)\n",
    "\n",
    "FRESNEL_MIN_VERSION = packaging.version.parse(\"0.13.0\")\n",
    "FRESNEL_MAX_VERSION = packaging.version.parse(\"0.14.0\")\n",
    "\n",
    "\n",
    "def render(snapshot):\n",
    "    if ('version' not in dir(fresnel) or packaging.version.parse(\n",
    "            fresnel.version.version) < FRESNEL_MIN_VERSION\n",
    "            or packaging.version.parse(\n",
    "                fresnel.version.version) >= FRESNEL_MAX_VERSION):\n",
    "        warnings.warn(f\"Unsupported fresnel version {fresnel.version.version}\"\n",
    "                      \" - expect errors.\")\n",
    "    L = snapshot.configuration.box[0]\n",
    "    vertices = [\n",
    "        (-0.5, 0, 0),\n",
    "        (0.5, 0, 0),\n",
    "        (0, -0.5, 0),\n",
    "        (0, 0.5, 0),\n",
    "        (0, 0, -0.5),\n",
    "        (0, 0, 0.5),\n",
    "    ]\n",
    "    poly_info = fresnel.util.convex_polyhedron_from_vertices(vertices)\n",
    "\n",
    "    scene = fresnel.Scene(device)\n",
    "    geometry = fresnel.geometry.ConvexPolyhedron(scene,\n",
    "                                                 poly_info,\n",
    "                                                 N=snapshot.particles.N)\n",
    "    geometry.material = fresnel.material.Material(color=fresnel.color.linear(\n",
    "        [0.01, 0.74, 0.26]),\n",
    "                                                  roughness=0.5)\n",
    "    geometry.position[:] = snapshot.particles.position[:]\n",
    "    if snapshot.particles.orientation is not None:\n",
    "        geometry.orientation[:] = snapshot.particles.orientation[:]\n",
    "    geometry.outline_width = 0.01\n",
    "    box = fresnel.geometry.Box(  # noqa: F841  (box is used)\n",
    "        scene,\n",
    "        snapshot.configuration.box,\n",
    "        box_radius=.02)\n",
    "\n",
    "    scene.lights = [\n",
    "        fresnel.light.Light(direction=(0, 0, 1),\n",
    "                            color=(0.5, 0.5, 0.5),\n",
    "                            theta=math.pi),\n",
    "        fresnel.light.Light(direction=(1, 1, 1),\n",
    "                            color=(1.1, 1.1, 1.1),\n",
    "                            theta=math.pi / 3)\n",
    "    ]\n",
    "    scene.camera = fresnel.camera.Orthographic(position=(L * 2, L, L * 2),\n",
    "                                               look_at=(0, 0, 0),\n",
    "                                               up=(0, 1, 0),\n",
    "                                               height=L * 1.4 + 1)\n",
    "    scene.background_color = (1, 1, 1)\n",
    "    return IPython.display.Image(tracer.sample(scene, samples=20)._repr_png_())"
   ]
  },
  {
   "cell_type": "markdown",
   "metadata": {},
   "source": [
    "## Core objects\n",
    "\n",
    "Import the HOOMD-blue Python package:"
   ]
  },
  {
   "cell_type": "code",
   "execution_count": null,
   "metadata": {},
   "outputs": [],
   "source": [
    "import hoomd"
   ]
  },
  {
   "cell_type": "markdown",
   "metadata": {},
   "source": [
    "### Selecting a device\n",
    "\n",
    "Choose the hardware device to use:"
   ]
  },
  {
   "cell_type": "code",
   "execution_count": null,
   "metadata": {},
   "outputs": [],
   "source": [
    "# gpu = hoomd.device.GPU()"
   ]
  },
  {
   "cell_type": "markdown",
   "metadata": {},
   "source": [
    "Try creating a CPU device:"
   ]
  },
  {
   "cell_type": "code",
   "execution_count": null,
   "metadata": {
    "tags": [
     "raises-exception"
    ]
   },
   "outputs": [],
   "source": [
    "# Complete the code.\n",
    "# cpu =\n",
    "cpu = hoomd.device.CPU()  # Solution."
   ]
  },
  {
   "cell_type": "markdown",
   "metadata": {},
   "source": [
    "### Creating a Simulation\n",
    "\n",
    "Now, instantiate a **Simulation** with the chosen device."
   ]
  },
  {
   "cell_type": "code",
   "execution_count": null,
   "metadata": {},
   "outputs": [],
   "source": [
    "sim = hoomd.Simulation(device=cpu, seed=1)"
   ]
  },
  {
   "cell_type": "markdown",
   "metadata": {},
   "source": [
    "A newly constructed **Simulation** has no **state**:"
   ]
  },
  {
   "cell_type": "code",
   "execution_count": null,
   "metadata": {},
   "outputs": [],
   "source": [
    "print(sim.state)"
   ]
  },
  {
   "cell_type": "markdown",
   "metadata": {},
   "source": [
    "### Populating the simulation state\n",
    "\n",
    "Use [`freud`](https://freud.readthedocs.io) to generate points on a lattice for the initial condition and place them in a **Snapshot**:"
   ]
  },
  {
   "cell_type": "code",
   "execution_count": null,
   "metadata": {},
   "outputs": [],
   "source": [
    "import freud\n",
    "import gsd.hoomd"
   ]
  },
  {
   "cell_type": "code",
   "execution_count": null,
   "metadata": {},
   "outputs": [],
   "source": [
    "snapshot = gsd.hoomd.Snapshot()\n",
    "box, positions = freud.data.UnitCell.fcc().generate_system(num_replicas=3,\n",
    "                                                           scale=1.5)\n",
    "snapshot.particles.N = len(positions)\n",
    "snapshot.particles.position = positions\n",
    "snapshot.particles.types = ['octahedron']\n",
    "snapshot.configuration.box = [box.Lx, box.Ly, box.Lz, 0, 0, 0]\n",
    "render(snapshot)"
   ]
  },
  {
   "cell_type": "markdown",
   "metadata": {},
   "source": [
    "Initialize the simulation **state** from the snapshot:"
   ]
  },
  {
   "cell_type": "code",
   "execution_count": null,
   "metadata": {},
   "outputs": [],
   "source": [
    "sim.create_state_from_snapshot(snapshot)"
   ]
  },
  {
   "cell_type": "markdown",
   "metadata": {},
   "source": [
    "Use `gsd` to write the snapshot out to a file (optional):"
   ]
  },
  {
   "cell_type": "code",
   "execution_count": null,
   "metadata": {},
   "outputs": [],
   "source": [
    "with gsd.hoomd.open(name='octahedra.gsd', mode='wb') as f:\n",
    "    f.append(snapshot)"
   ]
  },
  {
   "cell_type": "markdown",
   "metadata": {},
   "source": [
    "Try initializing a new simulation `sim2` from the file `octahedra.gsd`:"
   ]
  },
  {
   "cell_type": "code",
   "execution_count": null,
   "metadata": {},
   "outputs": [],
   "source": [
    "# Complete the code.\n",
    "# sim2 = hoomd.Simulation(\n",
    "# sim2.\n",
    "\n",
    "sim2 = hoomd.Simulation(device=cpu)  # Solution.\n",
    "sim2.create_state_from_gsd('octahedra.gsd')  # Solution."
   ]
  },
  {
   "cell_type": "markdown",
   "metadata": {},
   "source": [
    "### Adding the integrator and other operations\n",
    "\n",
    "The **integrator** determines what kind of simulation HOOMD-blue executes. Here, we will perform hard particle Monte Carlo (HPMC) simulations of octahedra.\n",
    "\n",
    "The **ConvexPolyhedron** **integrator** implements HPMC simulations - Create one:"
   ]
  },
  {
   "cell_type": "code",
   "execution_count": null,
   "metadata": {},
   "outputs": [],
   "source": [
    "mc = hoomd.hpmc.integrate.ConvexPolyhedron()"
   ]
  },
  {
   "cell_type": "markdown",
   "metadata": {},
   "source": [
    "Set the `shape` *property* to define the **particle shape**.\n",
    "A convex polyhedron is defined by the convex hull of a [set of vertices](https://en.wikipedia.org/wiki/Octahedron):"
   ]
  },
  {
   "cell_type": "code",
   "execution_count": null,
   "metadata": {},
   "outputs": [],
   "source": [
    "mc.shape['octahedron'] = dict(vertices=[\n",
    "    (-0.5, 0, 0),\n",
    "    (0.5, 0, 0),\n",
    "    (0, -0.5, 0),\n",
    "    (0, 0.5, 0),\n",
    "    (0, 0, -0.5),\n",
    "    (0, 0, 0.5),\n",
    "])"
   ]
  },
  {
   "cell_type": "markdown",
   "metadata": {},
   "source": [
    "Set the maximum trial displacement `d` and rotation `a`:"
   ]
  },
  {
   "cell_type": "code",
   "execution_count": null,
   "metadata": {},
   "outputs": [],
   "source": [
    "mc.d['octahedron'] = 0.15\n",
    "mc.a['octahedron'] = 0.2"
   ]
  },
  {
   "cell_type": "markdown",
   "metadata": {},
   "source": [
    "Add the HPMC **integrator** to the **Simulation** operations:"
   ]
  },
  {
   "cell_type": "code",
   "execution_count": null,
   "metadata": {},
   "outputs": [],
   "source": [
    "sim.operations += mc"
   ]
  },
  {
   "cell_type": "markdown",
   "metadata": {},
   "source": [
    "## Running the simulation"
   ]
  },
  {
   "cell_type": "markdown",
   "metadata": {},
   "source": [
    "Use the GSD writer to save simulation snapshots to a trajectory file:"
   ]
  },
  {
   "cell_type": "code",
   "execution_count": null,
   "metadata": {},
   "outputs": [],
   "source": [
    "gsd_writer = hoomd.write.GSD(filename='trajectory.gsd',\n",
    "                             trigger=hoomd.trigger.Periodic(1000),\n",
    "                             mode='wb')"
   ]
  },
  {
   "cell_type": "markdown",
   "metadata": {},
   "source": [
    "Add `gsd_writer` to the simulation's operations:"
   ]
  },
  {
   "cell_type": "code",
   "execution_count": null,
   "metadata": {},
   "outputs": [],
   "source": [
    "# Add code.\n",
    "\n",
    "sim.operations += gsd_writer  # Solution."
   ]
  },
  {
   "cell_type": "markdown",
   "metadata": {},
   "source": [
    "Run the simulation for 10,000 steps:"
   ]
  },
  {
   "cell_type": "code",
   "execution_count": null,
   "metadata": {},
   "outputs": [],
   "source": [
    "# Add code.\n",
    "sim.run(10000)  # Solution."
   ]
  },
  {
   "cell_type": "markdown",
   "metadata": {},
   "source": [
    "Look at the final state of the system:"
   ]
  },
  {
   "cell_type": "code",
   "execution_count": null,
   "metadata": {},
   "outputs": [],
   "source": [
    "with gsd.hoomd.open('trajectory.gsd') as trajectory:\n",
    "    image = render(trajectory[-1])\n",
    "image"
   ]
  },
  {
   "cell_type": "markdown",
   "metadata": {},
   "source": [
    "Check the translation trial move acceptance:"
   ]
  },
  {
   "cell_type": "code",
   "execution_count": null,
   "metadata": {},
   "outputs": [],
   "source": [
    "accepted_moves, rejected_moves = mc.translate_moves\n",
    "accepted_moves / (accepted_moves + rejected_moves)"
   ]
  },
  {
   "cell_type": "markdown",
   "metadata": {},
   "source": [
    "What is the rotation trial move acceptance?"
   ]
  },
  {
   "cell_type": "code",
   "execution_count": null,
   "metadata": {},
   "outputs": [],
   "source": [
    "# Add code.\n",
    "accepted_moves, rejected_moves = mc.rotate_moves  # Solution.\n",
    "accepted_moves / (accepted_moves + rejected_moves)  # Solution."
   ]
  },
  {
   "cell_type": "markdown",
   "metadata": {},
   "source": [
    "Add a **Tuner** that adjusts `a` and `d` to achieve a target acceptance ratio of 0.2:"
   ]
  },
  {
   "cell_type": "code",
   "execution_count": null,
   "metadata": {},
   "outputs": [],
   "source": [
    "move_size_trigger = hoomd.trigger.Periodic(10)\n",
    "tune_move_size = hoomd.hpmc.tune.MoveSize.scale_solver(\n",
    "    moves=['a', 'd'],\n",
    "    target=0.2,\n",
    "    trigger=move_size_trigger,\n",
    "    max_translation_move=1.0,\n",
    "    max_rotation_move=0.5)\n",
    "sim.operations += tune_move_size"
   ]
  },
  {
   "cell_type": "markdown",
   "metadata": {},
   "source": [
    "Run the simulation for 1,000 steps:"
   ]
  },
  {
   "cell_type": "code",
   "execution_count": null,
   "metadata": {},
   "outputs": [],
   "source": [
    "# Add code.\n",
    "sim.run(1000)  # Solution."
   ]
  },
  {
   "cell_type": "markdown",
   "metadata": {},
   "source": [
    "Now the acceptance ratio is close to 0.2:"
   ]
  },
  {
   "cell_type": "code",
   "execution_count": null,
   "metadata": {},
   "outputs": [],
   "source": [
    "accepted_moves, rejected_moves = mc.translate_moves\n",
    "accepted_moves / (accepted_moves + rejected_moves)"
   ]
  },
  {
   "cell_type": "markdown",
   "metadata": {},
   "source": [
    "`MoveSize` changed the maximum trial move sizes to achieve this:"
   ]
  },
  {
   "cell_type": "code",
   "execution_count": null,
   "metadata": {},
   "outputs": [],
   "source": [
    "mc.d['octahedron']"
   ]
  },
  {
   "cell_type": "markdown",
   "metadata": {},
   "source": [
    "What is the volume fraction of this simulation?"
   ]
  },
  {
   "cell_type": "code",
   "execution_count": null,
   "metadata": {},
   "outputs": [],
   "source": [
    "V_particle = 1 / 3 * math.sqrt(2) * (math.sqrt(2) / 2)**3\n",
    "initial_volume_fraction = (sim.state.N_particles * V_particle\n",
    "                           / sim.state.box.volume)\n",
    "print(initial_volume_fraction)"
   ]
  },
  {
   "cell_type": "markdown",
   "metadata": {},
   "source": [
    "## Exercise: Compressing the system to a target volume fraction\n",
    "\n",
    "Self-assembly occurs at higher volume fractions, typically above 0.5. As an exercise, add the code needed to compress the simulation to a target volume fraction of 0.5.\n",
    "\n",
    "Step 1: Determine the simulation box at the target packing fraction:"
   ]
  },
  {
   "cell_type": "code",
   "execution_count": null,
   "metadata": {},
   "outputs": [],
   "source": [
    "# Complete the code.\n",
    "final_volume_fraction = 0.5\n",
    "initial_box = sim.state.box\n",
    "final_box = hoomd.Box.from_box(initial_box)\n",
    "# final_box.volume =\n",
    "final_box.volume = sim.state.N_particles * V_particle / final_volume_fraction  # Solution."
   ]
  },
  {
   "cell_type": "markdown",
   "metadata": {},
   "source": [
    "Step 2: Add an operation that compresses the system.\n",
    "\n",
    "Tip: Look in the [HOOMD-blue documentation](https://hoomd-blue.readthedocs.io/)!"
   ]
  },
  {
   "cell_type": "code",
   "execution_count": null,
   "metadata": {},
   "outputs": [],
   "source": [
    "# Add code.\n",
    "compress = hoomd.hpmc.update.QuickCompress(trigger=hoomd.trigger.Periodic(10),\n",
    "                                           target_box=final_box)  # Solution.\n",
    "sim.operations += compress  # Solution."
   ]
  },
  {
   "cell_type": "markdown",
   "metadata": {},
   "source": [
    "Step 3: Run the simulation until the compression is *complete*.\n",
    "Hint: Look at the documentation for the `complete` attribute."
   ]
  },
  {
   "cell_type": "code",
   "execution_count": null,
   "metadata": {},
   "outputs": [],
   "source": [
    "# Add code.\n",
    "while not compress.complete:  # Solution.\n",
    "    sim.run(100)  # Solution."
   ]
  },
  {
   "cell_type": "markdown",
   "metadata": {},
   "source": [
    "The volume fraction should now be 0.5:"
   ]
  },
  {
   "cell_type": "code",
   "execution_count": null,
   "metadata": {},
   "outputs": [],
   "source": [
    "print(sim.state.N_particles * V_particle / sim.state.box.volume)"
   ]
  },
  {
   "cell_type": "markdown",
   "metadata": {},
   "source": [
    "And the simulation should appear dense:"
   ]
  },
  {
   "cell_type": "code",
   "execution_count": null,
   "metadata": {},
   "outputs": [],
   "source": [
    "render(sim.state.get_snapshot())"
   ]
  },
  {
   "cell_type": "markdown",
   "metadata": {},
   "source": [
    "At home: Review the full version of this tutorial in the [HOOMD-blue documentation](https://hoomd-blue.readthedocs.io/) to learn how to equilibrate the system and analyze the output to find when it crystallizes."
   ]
  }
 ],
 "metadata": {
  "kernelspec": {
   "display_name": "Python 3.9.13 ('venv')",
   "language": "python",
   "name": "python3"
  },
  "language_info": {
   "codemirror_mode": {
    "name": "ipython",
    "version": 3
   },
   "file_extension": ".py",
   "mimetype": "text/x-python",
   "name": "python",
   "nbconvert_exporter": "python",
   "pygments_lexer": "ipython3",
   "version": "3.9.13"
  },
  "vscode": {
   "interpreter": {
    "hash": "b698676187e8663f75837a5b59f7225e750401ff06561542669377ae3ea87bc4"
   }
  }
 },
 "nbformat": 4,
 "nbformat_minor": 2
}
