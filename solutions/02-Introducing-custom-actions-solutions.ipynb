{
 "cells": [
  {
   "attachments": {},
   "cell_type": "markdown",
   "id": "8dccab66-d487-42f2-8614-58a515580648",
   "metadata": {},
   "source": [
    "# Introducing custom actions\n",
    "\n",
    "This hands-on workshop introduces the basic of custom actions and will teach you how to create your own actions to use in HOOMD. For more details, information that may be helpful when completing the exercises, see the [HOOMD-blue documentation](https://hoomd-blue.readthedocs.io/).\n",
    "\n",
    "**Google Colab users:** Click the \"Copy to Drive\" button in the toolbar to save this notebook and any edits that you make to your Google Drive.\n",
    "\n",
    "## Utility code\n",
    "\n",
    "Please ignore the content of these cells, they provide some helpful methods but are not part of the workshop.\n",
    "\n",
    "Run them one at a time, then click the arrow by \"Utility code\" to hide them."
   ]
  },
  {
   "cell_type": "code",
   "execution_count": null,
   "id": "9cf31c9a-99f3-4bcb-80fc-0cab2c702c32",
   "metadata": {},
   "outputs": [],
   "source": [
    "# This cell installs HOOMD in Google Colab.\n",
    "!pip install -q condacolab\n",
    "import condacolab\n",
    "\n",
    "condacolab.install_from_url(\n",
    "    'https://github.com/glotzerlab/hoomd-workshop/releases/download/2023.0.0/hoomd-workshop-2023.0.0-Linux-x86_64.sh'\n",
    ")"
   ]
  },
  {
   "cell_type": "code",
   "execution_count": null,
   "id": "c1a8858c-bf8e-401d-84be-11a36ad3ee54",
   "metadata": {},
   "outputs": [],
   "source": [
    "import math\n",
    "import warnings\n",
    "from numbers import Number\n",
    "\n",
    "import fresnel\n",
    "import freud\n",
    "import gsd.hoomd\n",
    "import hoomd\n",
    "import IPython\n",
    "import matplotlib\n",
    "import numpy\n",
    "import packaging.version\n",
    "\n",
    "device = fresnel.Device()\n",
    "tracer = fresnel.tracer.Path(device=device, w=400, h=400)\n",
    "\n",
    "FRESNEL_MIN_VERSION = packaging.version.parse(\"0.13.0\")\n",
    "FRESNEL_MAX_VERSION = packaging.version.parse(\"0.14.0\")\n",
    "\n",
    "\n",
    "def render(simulation):\n",
    "    if ('version' not in dir(fresnel) or packaging.version.parse(\n",
    "            fresnel.version.version) < FRESNEL_MIN_VERSION\n",
    "            or packaging.version.parse(\n",
    "                fresnel.version.version) >= FRESNEL_MAX_VERSION):\n",
    "        warnings.warn(\n",
    "            f\"Unsupported fresnel version {fresnel.version.version} - expect errors.\"\n",
    "        )\n",
    "    with simulation.state.cpu_local_snapshot as snapshot:\n",
    "        L = snapshot.global_box.Lx\n",
    "        scene = fresnel.Scene(device)\n",
    "        geometry = fresnel.geometry.Sphere(scene,\n",
    "                                           N=len(snapshot.particles.position),\n",
    "                                           radius=0.5)\n",
    "        geometry.material = fresnel.material.Material(\n",
    "            color=fresnel.color.linear([252 / 255, 209 / 255, 1 / 255]),\n",
    "            roughness=0.5)\n",
    "        geometry.position[:] = snapshot.particles.position[:]\n",
    "        geometry.outline_width = 0.04\n",
    "\n",
    "        energies = snapshot.particles.net_energy\n",
    "        mapper = matplotlib.cm.ScalarMappable(\n",
    "            norm=matplotlib.colors.Normalize(vmin=numpy.min(energies),\n",
    "                                             vmax=numpy.max(energies),\n",
    "                                             clip=True),\n",
    "            cmap=matplotlib.cm.get_cmap(name='viridis'))\n",
    "        geometry.color[:] = fresnel.color.linear(mapper.to_rgba(energies))\n",
    "        geometry.material.primitive_color_mix = 1\n",
    "\n",
    "    box = fresnel.geometry.Box(scene, [L, L, L, 0, 0, 0], box_radius=.02)\n",
    "\n",
    "    scene.lights = [\n",
    "        fresnel.light.Light(direction=(0, 0, 1),\n",
    "                            color=(0.8, 0.8, 0.8),\n",
    "                            theta=math.pi),\n",
    "        fresnel.light.Light(direction=(1, 1, 1),\n",
    "                            color=(1.1, 1.1, 1.1),\n",
    "                            theta=math.pi / 3)\n",
    "    ]\n",
    "    scene.camera = fresnel.camera.Orthographic(position=(L * 2, L, L * 2),\n",
    "                                               look_at=(0, 0, 0),\n",
    "                                               up=(0, 1, 0),\n",
    "                                               height=L * 1.4 + 1)\n",
    "    scene.background_color = (1, 1, 1)\n",
    "    return IPython.display.Image(tracer.sample(scene, samples=20)._repr_png_())"
   ]
  },
  {
   "cell_type": "markdown",
   "id": "16f85690-1eb5-456d-80c0-9b918d974ad9",
   "metadata": {},
   "source": [
    "## What are actions?\n",
    "\n",
    "- Actions are objects that _act_ on a `hoomd.Simulation` object.\n",
    "- Actions can be written in Python using `hoomd.custom.Action`.\n",
    "- There are three categories of actions.\n",
    "    - Updaters: modify simulation state\n",
    "    - Writers: doesn't modify simulation state, writes out data\n",
    "    - Tuners: doesn't modify simulation state, modifies object\n",
    "      hyperparameters\n",
    "      \n",
    "We go ahead and create a simulation initialized with a single particle snapshot."
   ]
  },
  {
   "cell_type": "code",
   "execution_count": null,
   "id": "5c597ec4-21cd-4284-a031-22e5992b4da5",
   "metadata": {},
   "outputs": [],
   "source": [
    "sim = hoomd.Simulation(hoomd.device.CPU())\n",
    "\n",
    "# Create snapshot and initialize state\n",
    "snap = hoomd.Snapshot()\n",
    "snap.particles.N = 1\n",
    "snap.particles.position[:] = [0, 0, 0]\n",
    "snap.particles.types = ['A']\n",
    "snap.particles.typeid[:] = [0]\n",
    "snap.configuration.box = [10, 10, 10, 0, 0, 0]\n",
    "\n",
    "sim.create_state_from_snapshot(snap)"
   ]
  },
  {
   "cell_type": "markdown",
   "id": "d2888691-e93c-4712-bc06-6456678b592b",
   "metadata": {},
   "source": [
    "## Initial custom action\n",
    "\n",
    "Create a custom action as a subclass of\n",
    "`hoomd.custom.Action`. Here we will create an action that prints\n",
    "the timestep to standard out."
   ]
  },
  {
   "cell_type": "code",
   "execution_count": null,
   "id": "fd0ad947-31e2-4f9c-893e-2d926b393b02",
   "metadata": {},
   "outputs": [],
   "source": [
    "class PrintTimestep(hoomd.custom.Action):  # Note the inheritance\n",
    "\n",
    "    def act(self, timestep):  # act always takes the timestep even if not used\n",
    "        print(timestep)"
   ]
  },
  {
   "cell_type": "markdown",
   "id": "757581e4-1698-4117-9d00-46d58c66c10b",
   "metadata": {},
   "source": [
    "We now have an action that can print out the simulation\n",
    "timestep. The logic of the action goes inside the `act` method.\n",
    "\n",
    "Let's go ahead and create a `PrintTimestep` object."
   ]
  },
  {
   "cell_type": "code",
   "execution_count": null,
   "id": "64051180-56fc-4736-83ab-7fcefcd38368",
   "metadata": {},
   "outputs": [],
   "source": [
    "# Complete the code\n",
    "# custom_action =\n",
    "\n",
    "# Solution\n",
    "custom_action = PrintTimestep()"
   ]
  },
  {
   "cell_type": "markdown",
   "id": "4a6e963f-7990-4528-b047-85d2806e4f4e",
   "metadata": {},
   "source": [
    "## Using custom actions\n",
    "\n",
    "To let an `Operations` object know what kind of action our\n",
    "custom action is, we must wrap it in a subclass of\n",
    "`hoomd.custom.CustomOperation`.\n",
    "- `hoomd.write.CustomWriter`\n",
    "- `hoomd.update.CustomUpdater` \n",
    "- `hoomd.tune.CustomTuner`\n",
    "\n",
    "Create a `CustomWriter` operation that will call the custom action when triggered:"
   ]
  },
  {
   "cell_type": "code",
   "execution_count": null,
   "id": "70eb1a52-af57-4b14-a218-f85df8c5283e",
   "metadata": {},
   "outputs": [],
   "source": [
    "# Complete the code\n",
    "# Hint: Look at the signature for CustomWriter\n",
    "# custom_op = hoomd.write.CustomWriter(...)\n",
    "\n",
    "# Solution\n",
    "custom_op = hoomd.write.CustomWriter(action=custom_action,\n",
    "                                     trigger=hoomd.trigger.Periodic(100))"
   ]
  },
  {
   "cell_type": "markdown",
   "id": "2bb1f42d-012c-4e34-894a-e4e230fd2256",
   "metadata": {},
   "source": [
    "Notice that custom operations take triggers like other operations.\n",
    "\n",
    "Now we we must add `custom_op` to `sim.operations`."
   ]
  },
  {
   "cell_type": "code",
   "execution_count": null,
   "id": "647e342f-50a6-4769-9a0e-69ce3ebe7dde",
   "metadata": {},
   "outputs": [],
   "source": [
    "# Code\n",
    "\n",
    "# Solution\n",
    "sim.operations += custom_op"
   ]
  },
  {
   "cell_type": "markdown",
   "id": "e3fdfb5a-881c-4b73-9964-4dcedb281318",
   "metadata": {},
   "source": [
    "We can now run our simulation to see our custom action in work!"
   ]
  },
  {
   "cell_type": "code",
   "execution_count": null,
   "id": "512699a6-87dd-44d8-8ace-03e0f500904f",
   "metadata": {},
   "outputs": [],
   "source": [
    "sim.run(1000)\n",
    "sim.operations -= custom_op"
   ]
  },
  {
   "cell_type": "markdown",
   "id": "6c59c3f5-649c-4c23-92e5-a66a3c57e43e",
   "metadata": {},
   "source": [
    "## Custom Action Features\n",
    "\n",
    "### Accessing simulation state\n",
    "\n",
    "By the time that a custom action will have its `act` method called\n",
    "it will have an attribute `_state` accessible to it which is the\n",
    "`Simulation.state` attribute.\n",
    "\n",
    "In the cell below modify the class `CheckState` to print if the attribute `_state` exists\n",
    "in the instance."
   ]
  },
  {
   "cell_type": "code",
   "execution_count": null,
   "id": "6422641d-cb45-44e8-9183-3dcff8cb2f68",
   "metadata": {},
   "outputs": [],
   "source": [
    "class CheckState(hoomd.custom.Action):\n",
    "\n",
    "    def act(self, timestep):\n",
    "        # Complete code\n",
    "        # pass\n",
    "        # Solution\n",
    "        print(f\"Has attribute _state: {hasattr(self, '_state')}\")"
   ]
  },
  {
   "cell_type": "markdown",
   "id": "938238dd-9e34-45da-a407-654d9eda1346",
   "metadata": {},
   "source": [
    "Like in the previous section these are both writers. We will go ahead\n",
    "and wrap them and see what happens when we try to run the simulation."
   ]
  },
  {
   "cell_type": "code",
   "execution_count": null,
   "id": "af5ee101-12ea-4a44-9f5e-ab0c8e11f1f4",
   "metadata": {},
   "outputs": [],
   "source": [
    "check_state = CheckState()\n",
    "check_state_op = hoomd.write.CustomWriter(action=check_state,\n",
    "                                          trigger=hoomd.trigger.Periodic(10))\n",
    "sim.operations += check_state_op\n",
    "sim.run(10)\n",
    "sim.operations -= check_state_op"
   ]
  },
  {
   "cell_type": "markdown",
   "id": "73d0c2dd-04aa-4d01-99cc-4c9b4609cbef",
   "metadata": {},
   "source": [
    "### Loggable Quantities in Custom Actions\n",
    "\n",
    "Custom actions can use the logging subsystem through\n",
    "the `hoomd.logging.log` decorator to document which methods/properties\n",
    "of a custom action are loggable. By default the decorator makes the method\n",
    "a property as well. (See documentation on \n",
    "`hoomd.logging.log` and `hoomd.logging.TypeFlags` for further information)\n",
    "\n",
    "Below is an example which has a two loggables."
   ]
  },
  {
   "cell_type": "code",
   "execution_count": null,
   "id": "1f34e378-f27d-4828-9410-f174cd48435e",
   "metadata": {},
   "outputs": [],
   "source": [
    "class ActionWithLoggables(hoomd.custom.Action):\n",
    "\n",
    "    @hoomd.logging.log\n",
    "    def scalar_property_loggable(self):\n",
    "        return 42\n",
    "\n",
    "    @hoomd.logging.log(category='string')\n",
    "    def string_loggable(self):\n",
    "        return \"I am a string loggable.\"\n",
    "\n",
    "    def act(self, timestep):\n",
    "        pass\n",
    "\n",
    "\n",
    "action = ActionWithLoggables()\n",
    "display(action.scalar_property_loggable)\n",
    "display(action.string_loggable)"
   ]
  },
  {
   "cell_type": "markdown",
   "id": "96f4f004-9fbb-4b7d-9558-689b0404d1ef",
   "metadata": {},
   "source": [
    "### Action attribute pass through\n",
    "\n",
    "A custom action's attributes, methods, and properties are passed\n",
    "through to the custom operation"
   ]
  },
  {
   "cell_type": "code",
   "execution_count": null,
   "id": "b1d51757-eb7d-4a98-9185-6440282f7428",
   "metadata": {},
   "outputs": [],
   "source": [
    "custom_op = hoomd.write.CustomWriter(action=action, trigger=100)\n",
    "custom_op.scalar_property_loggable"
   ]
  },
  {
   "cell_type": "markdown",
   "id": "882b68f9-81ef-463d-9ce0-94595afa5801",
   "metadata": {},
   "source": [
    "Below add a loggable `N_particles` that logs `State.N_particles`."
   ]
  },
  {
   "cell_type": "code",
   "execution_count": null,
   "id": "1ceb0553-eef8-4bc9-8de8-8fca42c026c1",
   "metadata": {},
   "outputs": [],
   "source": [
    "class LogNParticles(hoomd.custom.Action):\n",
    "    # Complete code\n",
    "    # pass\n",
    "    # Solution\n",
    "    @hoomd.logging.log\n",
    "    def N_particles(self):\n",
    "        return self._state.N_particles\n",
    "\n",
    "    # End solution"
   ]
  },
  {
   "cell_type": "markdown",
   "id": "f8edf1f3-ad9d-42a3-8077-0c333b9e93e7",
   "metadata": {},
   "source": [
    "## Creating a custom updater\n",
    "\n",
    "Below we create a new simulation with a FCC lattice."
   ]
  },
  {
   "cell_type": "code",
   "execution_count": null,
   "id": "a1e6c376-f84c-4ca4-8503-6a8314b1387a",
   "metadata": {},
   "outputs": [],
   "source": [
    "kT = 1.3\n",
    "\n",
    "cpu = hoomd.device.CPU()\n",
    "sim = hoomd.Simulation(device=cpu, seed=1)\n",
    "\n",
    "box, positions = freud.data.UnitCell.fcc().generate_system(5, scale=1.6)\n",
    "snap = hoomd.Snapshot()\n",
    "snap.configuration.box = [box.Lx, box.Ly, box.Lz, 0.0, 0.0, 0.0]\n",
    "snap.particles.N = len(positions)\n",
    "snap.particles.position[:] = positions\n",
    "snap.particles.types = ['A']\n",
    "snap.particles.typeid[:] = 0\n",
    "\n",
    "sim.create_state_from_snapshot(snap)\n",
    "\n",
    "sim.state.thermalize_particle_momenta(filter=hoomd.filter.All(), kT=kT)\n",
    "\n",
    "lj = hoomd.md.pair.LJ(nlist=hoomd.md.nlist.Cell(buffer=0.4))\n",
    "lj.params[('A', 'A')] = {'epsilon': 1., 'sigma': 1.}\n",
    "lj.r_cut[('A', 'A')] = 2.5\n",
    "integrator = hoomd.md.Integrator(\n",
    "    methods=[hoomd.md.methods.NVE(hoomd.filter.All())], forces=[lj], dt=0.005)\n",
    "\n",
    "sim.operations += integrator"
   ]
  },
  {
   "cell_type": "markdown",
   "id": "43866002-bc60-44d2-9e68-3442329a8b17",
   "metadata": {},
   "source": [
    "### Problem\n",
    "\n",
    "In this section, we will show how to create a custom updater\n",
    "that modifies the system state. To show this, we will create a custom\n",
    "updater that adds a prescribed amount of energy to a single particle\n",
    "simulating the bombardment of radioactive material into our system. For\n",
    "this problem, we pick a random particle and modify its velocity\n",
    "according to the radiation energy in a random direction."
   ]
  },
  {
   "cell_type": "code",
   "execution_count": null,
   "id": "3df63650-bdce-4fcd-bbee-7904e8d4d110",
   "metadata": {},
   "outputs": [],
   "source": [
    "class InsertEnergyUpdater(hoomd.custom.Action):\n",
    "\n",
    "    def __init__(self, energy, seed=0):\n",
    "        self.energy = energy\n",
    "        self.rng = numpy.random.default_rng(seed)\n",
    "\n",
    "    def act(self, timestep):\n",
    "        snap = self._state.get_snapshot()\n",
    "        if snap.communicator.rank == 0:\n",
    "            direction = self._get_direction()\n",
    "            particle_i = self.rng.integers(snap.particles.N)\n",
    "            magnitude = self._get_magnitude(snap, particle_i)\n",
    "            velocity = direction * magnitude\n",
    "            snap.particles.velocity[particle_i] += velocity\n",
    "        self._state.set_snapshot(snap)\n",
    "\n",
    "    def _get_magnitude(self, snapshot, particle_index):\n",
    "        \"\"\"Get the velocity magnitude from mass and energy.\"\"\"\n",
    "        mass = snapshot.particles.mass[particle_index]\n",
    "        return numpy.sqrt(2 * self.energy / mass)\n",
    "\n",
    "    def _get_direction(self):\n",
    "        \"\"\"Get a random vector on the unit sphere.\"\"\"\n",
    "        theta, z = self.rng.random(2)\n",
    "        theta *= 2 * numpy.pi\n",
    "        z = 2 * (z - 0.5)\n",
    "        return numpy.array([\n",
    "            numpy.sqrt(1 - (z * z)) * numpy.cos(theta),\n",
    "            numpy.sqrt(1 - (z * z)) * numpy.sin(theta), z\n",
    "        ])"
   ]
  },
  {
   "cell_type": "markdown",
   "id": "2fae2bad-2b47-4921-941d-005537f43bd4",
   "metadata": {},
   "source": [
    "We will log a few thermodynamic quantities to observe our new custom action."
   ]
  },
  {
   "cell_type": "code",
   "execution_count": null,
   "id": "3a48b5b9-b532-4936-a852-f10c633dbe41",
   "metadata": {},
   "outputs": [],
   "source": [
    "thermo = hoomd.md.compute.ThermodynamicQuantities(hoomd.filter.All())\n",
    "logger = hoomd.logging.Logger(categories=['scalar'])\n",
    "logger.add(thermo, ['kinetic_energy', 'potential_energy'])\n",
    "logger['total_energy'] = (\n",
    "    lambda: thermo.kinetic_energy + thermo.potential_energy, 'scalar')\n",
    "\n",
    "table = hoomd.write.Table(100, logger, max_header_len=1)\n",
    "\n",
    "sim.operations += thermo\n",
    "sim.operations += table"
   ]
  },
  {
   "cell_type": "markdown",
   "id": "43f749ed-1edf-476b-b834-39d62581036e",
   "metadata": {},
   "source": [
    "Now create and add a `InsertEnergyUpdater` to the simultion."
   ]
  },
  {
   "cell_type": "code",
   "execution_count": null,
   "id": "1c834be7-c198-4867-b9bd-8ee3b0189213",
   "metadata": {},
   "outputs": [],
   "source": [
    "# Code\n",
    "# Solution\n",
    "energy_operation = hoomd.update.CustomUpdater(action=InsertEnergyUpdater(100.),\n",
    "                                              trigger=1_000)\n",
    "\n",
    "sim.operations += energy_operation"
   ]
  },
  {
   "cell_type": "code",
   "execution_count": null,
   "id": "67213e63-8efe-4b80-a2f0-4fdb448cd3fa",
   "metadata": {},
   "outputs": [],
   "source": [
    "sim.run(5_000)\n",
    "sim.operations.updaters.clear()"
   ]
  },
  {
   "cell_type": "code",
   "execution_count": null,
   "id": "8e177a52-6d4c-4988-bcfc-2c8983726e42",
   "metadata": {},
   "outputs": [],
   "source": [
    "render(sim)"
   ]
  },
  {
   "cell_type": "markdown",
   "id": "cea034a9-7a53-4ebf-bb9a-cfe11f14ab07",
   "metadata": {},
   "source": [
    "As we can see the total energy of the system is indeed increasing.\n",
    "The energy isn't increasing by the same amount every time since we\n",
    "are adding the velocity in a random direction which may be against\n",
    "the current velocity.\n",
    "\n",
    "### Improving upon our Custom Action\n",
    "\n",
    "Maybe we want to allow for the energy to be from a distribution.\n",
    "HOOMD-blue has a concept called a variant which allows for quantities\n",
    "that vary over time.\n",
    "\n",
    "<div class=\"alert alert-warning\" style=\"color: black;\">\n",
    "    <h4>Note:</h4>\n",
    "    <p><code>Variant</code> objects model a parameter as a \n",
    "        function of the timestep, so to get the value for a particular\n",
    "        timestep we have to <strong>call</strong> the variant. For more\n",
    "        information see the documentation for \n",
    "        <code>hoomd.variant</code>.\n",
    "    </p>\n",
    "</div>\n",
    "\n",
    "Below modify the `InsertEnergyUpdater` class to accept a variant for\n",
    "energy."
   ]
  },
  {
   "cell_type": "code",
   "execution_count": null,
   "id": "bd99c707-e29f-4c95-b2df-3b70220733b7",
   "metadata": {},
   "outputs": [],
   "source": [
    "# Modify code below\n",
    "# Hint look at everywhere energy is used.\n",
    "class InsertEnergyUpdater(hoomd.custom.Action):\n",
    "\n",
    "    def __init__(self, energy, seed=0):\n",
    "        self.energy = energy\n",
    "        self.rng = numpy.random.default_rng(seed)\n",
    "\n",
    "    def act(self, timestep):\n",
    "        snap = self._state.get_snapshot()\n",
    "        if snap.communicator.rank == 0:\n",
    "            direction = self._get_direction()\n",
    "            particle_i = self.rng.integers(snap.particles.N)\n",
    "            magnitude = self._get_magnitude(snap, self.energy(timestep),\n",
    "                                            particle_i)\n",
    "            velocity = direction * magnitude\n",
    "            snap.particles.velocity[particle_i] += velocity\n",
    "        self._state.set_snapshot(snap)\n",
    "\n",
    "    def _get_magnitude(self, snapshot, energy, particle_index):\n",
    "        \"\"\"Get the velocity magnitude from mass and energy.\"\"\"\n",
    "        mass = snapshot.particles.mass[particle_index]\n",
    "        return numpy.sqrt(2 * energy / mass)\n",
    "\n",
    "    def _get_direction(self):\n",
    "        \"\"\"Get a random vector on the unit sphere.\"\"\"\n",
    "        theta, z = self.rng.random(2)\n",
    "        theta *= 2 * numpy.pi\n",
    "        z = 2 * (z - 0.5)\n",
    "        return numpy.array([\n",
    "            numpy.sqrt(1 - (z * z)) * numpy.cos(theta),\n",
    "            numpy.sqrt(1 - (z * z)) * numpy.sin(theta), z\n",
    "        ])"
   ]
  },
  {
   "cell_type": "markdown",
   "id": "574af05c-42f3-492e-aad0-b9e4b2c1cb96",
   "metadata": {},
   "source": [
    "Now\n",
    "- Create an updated `InsertEnergyUpdater` with a\n",
    "  `hoomd.variant.Ramp` variant that starts at 1 and goes to 20\n",
    "  that starts at the current timestep and takes 1,000 timesteps,\n",
    "  and triggers every 251 steps.\n",
    "- Add the action to the simulation\n",
    "- run the simulation for 1,001 steps."
   ]
  },
  {
   "cell_type": "code",
   "execution_count": null,
   "id": "d0fa4cd5-f0d6-4f2a-b108-d81ea1933bc9",
   "metadata": {},
   "outputs": [],
   "source": [
    "# Create and add our custom updater\n",
    "# Code\n",
    "# Solution\n",
    "energy = hoomd.variant.Ramp(1.0, 20.0, sim.timestep, 1_000)\n",
    "energy_operation = hoomd.update.CustomUpdater(\n",
    "    action=InsertEnergyUpdater(energy), trigger=251)\n",
    "sim.operations += energy_operation\n",
    "sim.run(1_001)\n",
    "# End solution\n",
    "sim.operations.updaters.clear()\n",
    "sim.operations.writers.clear()"
   ]
  },
  {
   "cell_type": "markdown",
   "id": "6b85bcf1-7f94-4f08-bc26-f05ce7c070cf",
   "metadata": {},
   "source": [
    "## Performance\n",
    "\n",
    "### General performance tips\n",
    "\n",
    "* Use local snapshots\n",
    "* Store property values from `hoomd` objects (e.g. `hoomd.md.pair.LJ.energy`)\n",
    "  if used multiple times.\n",
    "* Use NumPy and CuPy broadcasting over for loops.\n",
    "\n",
    "The cell below shows the usage of the `cpu_local_snapshot`.\n",
    "When running on GPUs a `gpu_local_snapshot` is available as well."
   ]
  },
  {
   "cell_type": "code",
   "execution_count": null,
   "id": "ea5441e6-1d39-4318-8bc8-fa4bb2c8aa7e",
   "metadata": {},
   "outputs": [],
   "source": [
    "with sim.state.cpu_local_snapshot as snap:\n",
    "    print(snap.particles.position[:5])\n",
    "    print(snap.particles.tag[:5])\n",
    "    print(snap.particles.rtag[:5])"
   ]
  },
  {
   "cell_type": "markdown",
   "id": "1b6a0931-6032-4652-a988-eb25634adea2",
   "metadata": {},
   "source": [
    "### Measure original actions' performance"
   ]
  },
  {
   "cell_type": "code",
   "execution_count": null,
   "id": "4e839bfa-ac8c-4b21-beea-a6d91aec93c6",
   "metadata": {},
   "outputs": [],
   "source": [
    "energy_action = InsertEnergyUpdater(hoomd.variant.Constant(1))\n",
    "energy_operation = hoomd.update.CustomUpdater(action=energy_action, trigger=1)\n",
    "sim.operations.updaters.append(energy_operation)"
   ]
  },
  {
   "cell_type": "code",
   "execution_count": null,
   "id": "033a4698-cf83-406e-a71c-90e4f50034f7",
   "metadata": {},
   "outputs": [],
   "source": [
    "%%timeit\n",
    "sim.run(100)"
   ]
  },
  {
   "cell_type": "markdown",
   "id": "a6bd5766-530f-45a8-83ee-3415e2aa1e3d",
   "metadata": {},
   "source": [
    "### Use local snapshot in updater\n",
    "\n",
    "We will now optimize the code to use\n",
    "the `cpu_local_snapshot` for updating velocities.\n",
    "Below switch `act` to use `cpu_local_snapshot`."
   ]
  },
  {
   "cell_type": "code",
   "execution_count": null,
   "id": "cc4d55a4-a16d-4a2c-b894-c153a2022f55",
   "metadata": {},
   "outputs": [],
   "source": [
    "class InsertEnergyUpdater(hoomd.custom.Action):\n",
    "\n",
    "    def __init__(self, energy, seed=0):\n",
    "        self.energy = energy\n",
    "        self.rng = numpy.random.default_rng(seed)\n",
    "\n",
    "    def act(self, timestep):\n",
    "        direction = self._get_direction()\n",
    "        energy = self.energy(timestep)\n",
    "        particle_i = self.rng.integers(self._state.N_particles)\n",
    "        # Code\n",
    "        with self._state.cpu_local_snapshot as snap:\n",
    "            # Solution\n",
    "            # This code does not work with MPI\n",
    "            i = snap.particles.rtag[particle_i]\n",
    "            magnitude = self._get_magnitude(snap, energy, i)\n",
    "            velocity = direction * magnitude\n",
    "            snap.particles.velocity[i] += velocity\n",
    "\n",
    "    def _get_magnitude(self, snapshot, energy, particle_index):\n",
    "        \"\"\"Get the velocity magnitude from mass and energy.\"\"\"\n",
    "        mass = snapshot.particles.mass[particle_index]\n",
    "        return numpy.sqrt(2 * energy / mass)\n",
    "\n",
    "    def _get_direction(self):\n",
    "        \"\"\"Get a random vector on the unit sphere.\"\"\"\n",
    "        theta, z = self.rng.random(2)\n",
    "        theta *= 2 * numpy.pi\n",
    "        z = 2 * (z - 0.5)\n",
    "        return numpy.array([\n",
    "            numpy.sqrt(1 - (z * z)) * numpy.cos(theta),\n",
    "            numpy.sqrt(1 - (z * z)) * numpy.sin(theta), z\n",
    "        ])"
   ]
  },
  {
   "cell_type": "markdown",
   "id": "ace52cb8-4808-4bd4-8e9d-43928b9cc8f1",
   "metadata": {},
   "source": [
    "### Measure new actions' performance"
   ]
  },
  {
   "cell_type": "code",
   "execution_count": null,
   "id": "2510de8b-3b5f-4a2b-ad7f-b6c4282bbfa0",
   "metadata": {},
   "outputs": [],
   "source": [
    "# Create and add our modified custom updater\n",
    "sim.operations -= energy_operation\n",
    "energy_action = InsertEnergyUpdater(hoomd.variant.Constant(1))\n",
    "energy_operation = hoomd.update.CustomUpdater(action=energy_action, trigger=1)\n",
    "sim.operations.updaters.append(energy_operation)"
   ]
  },
  {
   "cell_type": "code",
   "execution_count": null,
   "id": "16ec5a70-a2c3-44c5-9732-23077c026884",
   "metadata": {},
   "outputs": [],
   "source": [
    "%%timeit\n",
    "sim.run(100)"
   ]
  },
  {
   "cell_type": "code",
   "execution_count": null,
   "id": "ff476a8d-6464-4b78-acd9-4525cbd8c615",
   "metadata": {},
   "outputs": [],
   "source": []
  }
 ],
 "metadata": {
  "kernelspec": {
   "display_name": "Python 3",
   "language": "python",
   "name": "python3"
  },
  "language_info": {
   "codemirror_mode": {
    "name": "ipython",
    "version": 3
   },
   "file_extension": ".py",
   "mimetype": "text/x-python",
   "name": "python",
   "nbconvert_exporter": "python",
   "pygments_lexer": "ipython3",
   "version": "3.11.1"
  },
  "vscode": {
   "interpreter": {
    "hash": "5c7b89af1651d0b8571dde13640ecdccf7d5a6204171d6ab33e7c296e100e08a"
   }
  }
 },
 "nbformat": 4,
 "nbformat_minor": 5
}
