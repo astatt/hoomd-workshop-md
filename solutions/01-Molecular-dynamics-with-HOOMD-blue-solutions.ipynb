{
 "cells": [
  {
   "attachments": {},
   "cell_type": "markdown",
   "metadata": {},
   "source": [
    "# Introducing molecular dynamics\n",
    "\n",
    "This hands-on workshop introduces the basic concepts of HOOMD-blue and will teach you how to run a molecular dynamics simulation. For more details, information that may be helpful when completing the exercises, see the [HOOMD-blue documentation](https://hoomd-blue.readthedocs.io/).\n",
    "\n",
    "**Google Colab users:** Click the \"Copy to Drive\" button in the toolbar to save this notebook and any edits that you make to your Google Drive."
   ]
  },
  {
   "cell_type": "markdown",
   "metadata": {},
   "source": [
    "## Utility code\n",
    "\n",
    "Please ignore the content of these cells, they provide some helpful methods but are not part of the workshop.\n",
    "\n",
    "Run them one at a time, then click the arrow by \"Utility code\" to hide them."
   ]
  },
  {
   "cell_type": "code",
   "execution_count": null,
   "metadata": {},
   "outputs": [],
   "source": [
    "# This cell installs HOOMD-blue in Google Colab.\n",
    "try:\n",
    "    import google\n",
    "\n",
    "    !pip install -q condacolab\n",
    "    import condacolab\n",
    "\n",
    "    condacolab.install_from_url(\n",
    "        'https://github.com/glotzerlab/hoomd-workshop/releases/download/2023.0.0/hoomd-workshop-2023.0.0-Linux-x86_64.sh'\n",
    "    )\n",
    "except ModuleNotFoundError:\n",
    "    pass"
   ]
  },
  {
   "cell_type": "code",
   "execution_count": null,
   "metadata": {},
   "outputs": [],
   "source": [
    "import math\n",
    "import warnings\n",
    "\n",
    "import fresnel\n",
    "import freud\n",
    "import gsd.hoomd\n",
    "import hoomd\n",
    "import IPython\n",
    "import matplotlib\n",
    "import numpy\n",
    "import packaging.version\n",
    "\n",
    "device = fresnel.Device()\n",
    "tracer = fresnel.tracer.Path(device=device, w=400, h=400)\n",
    "\n",
    "FRESNEL_MIN_VERSION = packaging.version.parse(\"0.13.0\")\n",
    "FRESNEL_MAX_VERSION = packaging.version.parse(\"0.14.0\")\n",
    "\n",
    "\n",
    "def render(snapshot):\n",
    "    if ('version' not in dir(fresnel) or packaging.version.parse(\n",
    "            fresnel.version.version) < FRESNEL_MIN_VERSION\n",
    "            or packaging.version.parse(\n",
    "                fresnel.version.version) >= FRESNEL_MAX_VERSION):\n",
    "        warnings.warn(\n",
    "            f\"Unsupported fresnel version {fresnel.version.version} - expect errors.\"\n",
    "        )\n",
    "    L = snapshot.configuration.box[0]\n",
    "    scene = fresnel.Scene(device)\n",
    "    geometry = fresnel.geometry.Sphere(scene,\n",
    "                                       N=len(snapshot.particles.position),\n",
    "                                       radius=0.5)\n",
    "    geometry.material = fresnel.material.Material(color=fresnel.color.linear(\n",
    "        [252 / 255, 209 / 255, 1 / 255]),\n",
    "                                                  roughness=0.5)\n",
    "    geometry.position[:] = snapshot.particles.position[:]\n",
    "    geometry.outline_width = 0.04\n",
    "\n",
    "    if (hasattr(snapshot, 'log')\n",
    "            and 'particles/md/pair/LJ/energies' in snapshot.log):\n",
    "        energies = snapshot.log['particles/md/pair/LJ/energies']\n",
    "        mapper = matplotlib.cm.ScalarMappable(\n",
    "            norm=matplotlib.colors.Normalize(vmin=numpy.min(energies),\n",
    "                                             vmax=numpy.max(energies),\n",
    "                                             clip=True),\n",
    "            cmap=matplotlib.cm.get_cmap(name='viridis'))\n",
    "        geometry.color[:] = fresnel.color.linear(mapper.to_rgba(energies))\n",
    "        geometry.material.primitive_color_mix = 1\n",
    "\n",
    "    box = fresnel.geometry.Box(scene, [L, L, L, 0, 0, 0], box_radius=.02)\n",
    "\n",
    "    scene.lights = [\n",
    "        fresnel.light.Light(direction=(0, 0, 1),\n",
    "                            color=(0.8, 0.8, 0.8),\n",
    "                            theta=math.pi),\n",
    "        fresnel.light.Light(direction=(1, 1, 1),\n",
    "                            color=(1.1, 1.1, 1.1),\n",
    "                            theta=math.pi / 3)\n",
    "    ]\n",
    "    scene.camera = fresnel.camera.Orthographic(position=(L * 2, L, L * 2),\n",
    "                                               look_at=(0, 0, 0),\n",
    "                                               up=(0, 1, 0),\n",
    "                                               height=L * 1.4 + 1)\n",
    "    scene.background_color = (1, 1, 1)\n",
    "    return IPython.display.Image(tracer.sample(scene, samples=20)._repr_png_())\n",
    "\n",
    "\n",
    "warnings.filterwarnings('ignore', module='hoomd')"
   ]
  },
  {
   "cell_type": "markdown",
   "metadata": {},
   "source": [
    "## Create the simulation and initial state\n",
    "\n",
    "Just like we did with HPMC."
   ]
  },
  {
   "cell_type": "code",
   "execution_count": null,
   "metadata": {},
   "outputs": [],
   "source": [
    "cpu = hoomd.device.CPU()\n",
    "sim = hoomd.Simulation(device=cpu, seed=2)"
   ]
  },
  {
   "cell_type": "code",
   "execution_count": null,
   "metadata": {},
   "outputs": [],
   "source": [
    "snapshot = hoomd.Snapshot()\n",
    "box, positions = freud.data.UnitCell.bcc().generate_system(num_replicas=4,\n",
    "                                                           scale=1.5)\n",
    "snapshot.particles.N = len(positions)\n",
    "snapshot.particles.position[:] = positions\n",
    "snapshot.particles.types = ['A']\n",
    "snapshot.configuration.box = [box.Lx, box.Ly, box.Lz, 0, 0, 0]\n",
    "render(snapshot)"
   ]
  },
  {
   "cell_type": "code",
   "execution_count": null,
   "metadata": {},
   "outputs": [],
   "source": [
    "sim.create_state_from_snapshot(snapshot)"
   ]
  },
  {
   "cell_type": "markdown",
   "metadata": {},
   "source": [
    "## Molecular dynamics classes\n",
    "\n",
    "The MD integrator numerically integrates the equations of motion:"
   ]
  },
  {
   "cell_type": "code",
   "execution_count": null,
   "metadata": {},
   "outputs": [],
   "source": [
    "integrator = hoomd.md.Integrator(dt=0.005)"
   ]
  },
  {
   "cell_type": "markdown",
   "metadata": {},
   "source": [
    "You need a neighbor list to compte pairwise interactions:"
   ]
  },
  {
   "cell_type": "code",
   "execution_count": null,
   "metadata": {},
   "outputs": [],
   "source": [
    "cell = hoomd.md.nlist.Cell(buffer=0.4)"
   ]
  },
  {
   "cell_type": "markdown",
   "metadata": {},
   "source": [
    "Compute Lennard-Jones interaction forces:\n",
    "$$V_{\\mathrm{LJ}}(r) = 4 \\varepsilon \\left[ \\left(\\frac{\\sigma}{r}\\right)^{12} - \\left(\\frac{\\sigma}{r}\\right)^6 \\right]$$"
   ]
  },
  {
   "cell_type": "code",
   "execution_count": null,
   "metadata": {},
   "outputs": [],
   "source": [
    "lj = hoomd.md.pair.LJ(nlist=cell)\n",
    "lj.params[('A', 'A')] = dict(epsilon=1, sigma=1)"
   ]
  },
  {
   "cell_type": "markdown",
   "metadata": {},
   "source": [
    "Set `r_cut` to 2.5:"
   ]
  },
  {
   "cell_type": "code",
   "execution_count": null,
   "metadata": {},
   "outputs": [],
   "source": [
    "# Add code.\n",
    "lj.r_cut[('A', 'A')] = 2.5  # Solution"
   ]
  },
  {
   "cell_type": "markdown",
   "metadata": {},
   "source": [
    "Add the `lj` force to the integrator's `forces` list:"
   ]
  },
  {
   "cell_type": "code",
   "execution_count": null,
   "metadata": {},
   "outputs": [],
   "source": [
    "# Add code.\n",
    "integrator.forces.append(lj)  # Solution"
   ]
  },
  {
   "cell_type": "markdown",
   "metadata": {},
   "source": [
    "The integration **method** sets the specific equations of motion that apply to a subset of particles:"
   ]
  },
  {
   "cell_type": "code",
   "execution_count": null,
   "metadata": {},
   "outputs": [],
   "source": [
    "all_particles = hoomd.filter.All()\n",
    "kT = 1.5\n",
    "nvt = hoomd.md.methods.NVT(kT=kT, filter=all_particles, tau=1.0)"
   ]
  },
  {
   "cell_type": "markdown",
   "metadata": {},
   "source": [
    "Add `nvt` to the integrator's `methods` list:"
   ]
  },
  {
   "cell_type": "code",
   "execution_count": null,
   "metadata": {},
   "outputs": [],
   "source": [
    "# Add code.\n",
    "integrator.methods.append(nvt)  # Solution"
   ]
  },
  {
   "cell_type": "markdown",
   "metadata": {},
   "source": [
    "Remember to add the integrator to the simulation operations!"
   ]
  },
  {
   "cell_type": "code",
   "execution_count": null,
   "metadata": {},
   "outputs": [],
   "source": [
    "sim.operations += integrator"
   ]
  },
  {
   "cell_type": "markdown",
   "metadata": {},
   "source": [
    "## Running a molecular dynamics simulation\n",
    "\n",
    "HOOMD-blue defaults particle velocities to 0:"
   ]
  },
  {
   "cell_type": "code",
   "execution_count": null,
   "metadata": {},
   "outputs": [],
   "source": [
    "print(sim.state.get_snapshot().particles.velocity[0:5, :])"
   ]
  },
  {
   "cell_type": "markdown",
   "metadata": {},
   "source": [
    "Thermalize the velocities and integration method's degrees of freedom before running."
   ]
  },
  {
   "cell_type": "code",
   "execution_count": null,
   "metadata": {},
   "outputs": [],
   "source": [
    "sim.state.thermalize_particle_momenta(filter=all_particles, kT=kT)\n",
    "sim.run(0)\n",
    "nvt.thermalize_thermostat_dof()\n",
    "print(sim.state.get_snapshot().particles.velocity[0:5, :])"
   ]
  },
  {
   "cell_type": "markdown",
   "metadata": {},
   "source": [
    "Run the simulation:"
   ]
  },
  {
   "cell_type": "code",
   "execution_count": null,
   "metadata": {},
   "outputs": [],
   "source": [
    "sim.run(100)"
   ]
  },
  {
   "cell_type": "markdown",
   "metadata": {},
   "source": [
    "## Querying thermodynamic quantities\n",
    "\n",
    "The `ThermodynamicQuantities` class computes properties of the simulation:"
   ]
  },
  {
   "cell_type": "code",
   "execution_count": null,
   "metadata": {},
   "outputs": [],
   "source": [
    "thermo = hoomd.md.compute.ThermodynamicQuantities(filter=all_particles)\n",
    "sim.operations += thermo"
   ]
  },
  {
   "cell_type": "markdown",
   "metadata": {},
   "source": [
    "Use `thermo` to get the `potential_energy` of the system:"
   ]
  },
  {
   "cell_type": "code",
   "execution_count": null,
   "metadata": {},
   "outputs": [],
   "source": [
    "# Add code.\n",
    "thermo.potential_energy  # Solution."
   ]
  },
  {
   "cell_type": "markdown",
   "metadata": {},
   "source": [
    "## Logging scalar quantities\n",
    "\n",
    "Use a Logger to monitor how properties of the simulation vary during the run:"
   ]
  },
  {
   "cell_type": "code",
   "execution_count": null,
   "metadata": {},
   "outputs": [],
   "source": [
    "logger = hoomd.logging.Logger(categories=['scalar'])"
   ]
  },
  {
   "cell_type": "markdown",
   "metadata": {},
   "source": [
    "Choose the specific quantities you want to log:"
   ]
  },
  {
   "cell_type": "code",
   "execution_count": null,
   "metadata": {},
   "outputs": [],
   "source": [
    "logger += sim\n",
    "logger.add(thermo, quantities=['potential_energy'])"
   ]
  },
  {
   "cell_type": "markdown",
   "metadata": {},
   "source": [
    "Use the `Table` writer to display the logged values:"
   ]
  },
  {
   "cell_type": "code",
   "execution_count": null,
   "metadata": {},
   "outputs": [],
   "source": [
    "table = hoomd.write.Table(trigger=hoomd.trigger.Periodic(100),\n",
    "                          logger=logger,\n",
    "                          max_header_len=5,\n",
    "                          max_precision=2)\n",
    "sim.operations += table"
   ]
  },
  {
   "cell_type": "code",
   "execution_count": null,
   "metadata": {},
   "outputs": [],
   "source": [
    "sim.run(1000)"
   ]
  },
  {
   "cell_type": "markdown",
   "metadata": {},
   "source": [
    "Remove the table writer:"
   ]
  },
  {
   "cell_type": "code",
   "execution_count": null,
   "metadata": {},
   "outputs": [],
   "source": [
    "sim.operations -= table"
   ]
  },
  {
   "cell_type": "markdown",
   "metadata": {},
   "source": [
    "## Logging array quantities\n",
    "\n",
    "HOOMD-blue can log array quantities, such as the per particle energies `lj.energies`:"
   ]
  },
  {
   "cell_type": "code",
   "execution_count": null,
   "metadata": {},
   "outputs": [],
   "source": [
    "lj.energies[0:5]"
   ]
  },
  {
   "cell_type": "markdown",
   "metadata": {},
   "source": [
    "However, `Table` does not write array quantities. Create a new logger that accepts `'scalar'` and `'particle'` categories:"
   ]
  },
  {
   "cell_type": "code",
   "execution_count": null,
   "metadata": {},
   "outputs": [],
   "source": [
    "# Add code.\n",
    "array_logger = hoomd.logging.Logger(categories=['scalar',\n",
    "                                                'particle'])  # Solution."
   ]
  },
  {
   "cell_type": "markdown",
   "metadata": {},
   "source": [
    "Then add the per-particle quantity `energies` from `lj` to it:"
   ]
  },
  {
   "cell_type": "code",
   "execution_count": null,
   "metadata": {},
   "outputs": [],
   "source": [
    "# Add code.\n",
    "array_logger.add(lj, quantities=['energies'])  # Solution."
   ]
  },
  {
   "cell_type": "markdown",
   "metadata": {},
   "source": [
    "Include the logged quantities in a GSD trajectory:"
   ]
  },
  {
   "cell_type": "code",
   "execution_count": null,
   "metadata": {},
   "outputs": [],
   "source": [
    "gsd_writer = hoomd.write.GSD(trigger=hoomd.trigger.Periodic(100),\n",
    "                             filename='trajectory.gsd',\n",
    "                             log=array_logger,\n",
    "                             mode='wb')\n",
    "sim.operations += gsd_writer"
   ]
  },
  {
   "cell_type": "markdown",
   "metadata": {},
   "source": [
    "Run the simulation to generate the file:"
   ]
  },
  {
   "cell_type": "code",
   "execution_count": null,
   "metadata": {},
   "outputs": [],
   "source": [
    "sim.run(1000)"
   ]
  },
  {
   "cell_type": "markdown",
   "metadata": {},
   "source": [
    "The values are available as numpy arrays:"
   ]
  },
  {
   "cell_type": "code",
   "execution_count": null,
   "metadata": {},
   "outputs": [],
   "source": [
    "with gsd.hoomd.open('trajectory.gsd', 'rb') as trajectory:\n",
    "    for frame in trajectory:\n",
    "        energies = frame.log['particles/md/pair/LJ/energies']\n",
    "        print(energies.mean(), energies.std())"
   ]
  },
  {
   "cell_type": "markdown",
   "metadata": {},
   "source": [
    "Map the potential energy to particle color:"
   ]
  },
  {
   "cell_type": "code",
   "execution_count": null,
   "metadata": {},
   "outputs": [],
   "source": [
    "with gsd.hoomd.open('trajectory.gsd', 'rb') as trajectory:\n",
    "    image = render(trajectory[-1])\n",
    "image"
   ]
  }
 ],
 "metadata": {
  "kernelspec": {
   "display_name": "Python 3 (ipykernel)",
   "language": "python",
   "name": "python3"
  },
  "language_info": {
   "codemirror_mode": {
    "name": "ipython",
    "version": 3
   },
   "file_extension": ".py",
   "mimetype": "text/x-python",
   "name": "python",
   "nbconvert_exporter": "python",
   "pygments_lexer": "ipython3",
   "version": "3.11.2"
  },
  "vscode": {
   "interpreter": {
    "hash": "b698676187e8663f75837a5b59f7225e750401ff06561542669377ae3ea87bc4"
   }
  }
 },
 "nbformat": 4,
 "nbformat_minor": 4
}
